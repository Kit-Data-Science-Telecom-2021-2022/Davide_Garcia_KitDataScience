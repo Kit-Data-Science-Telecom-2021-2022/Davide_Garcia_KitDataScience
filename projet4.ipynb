{
 "cells": [
  {
   "cell_type": "markdown",
   "metadata": {},
   "source": [
    "# Projet 4"
   ]
  },
  {
   "cell_type": "code",
   "execution_count": 1,
   "metadata": {},
   "outputs": [],
   "source": [
    "# importation des librairies\n",
    "import requests\n",
    "from bs4 import BeautifulSoup"
   ]
  },
  {
   "cell_type": "markdown",
   "metadata": {},
   "source": [
    "Ecrire une fonction `get_prices_from_url()` qui extrait des informations à partir des 2 pages ci-dessous.\n",
    "\n",
    "Exemple `URL_PAGE2` doit retourner :\n",
    "\n",
    "<pre>{'Personal': {'price': '$5', 'storage': '1GB', 'databases': 1},\n",
    "  'Small Business': {'price': '$25', 'storage': '10GB', 'databases': 5},\n",
    "  'Enterprise': {'price': '$45', 'storage': '100GB', 'databases': 25}}\n",
    "</pre>"
   ]
  },
  {
   "cell_type": "code",
   "execution_count": 2,
   "metadata": {
    "scrolled": true
   },
   "outputs": [
    {
     "name": "stdout",
     "output_type": "stream",
     "text": [
      "{'Personal': {'price': '$5', 'storage': '1GB', 'databases': 1}, 'Small Business': {'price': '$25', 'storage': '10GB', 'databases': 5}, 'Enterprise': {'price': '$45', 'storage': '100GB', 'databases': 25}, 'Privilege': {'price': '$99', 'storage': '1TB', 'databases': 100}}\n"
     ]
    }
   ],
   "source": [
    "URL_PAGE2 = \"https://kim.fspot.org/cours/page2.html\"\n",
    "URL_PAGE3 = \"https://kim.fspot.org/cours/page3.html\"\n",
    "\n",
    "def get_prices_from_url(url):\n",
    "    # Initialisation de la liste des prix\n",
    "    prices = {}\n",
    "    \n",
    "    # Requete\n",
    "    r = requests.get(url)\n",
    "    content = r.content\n",
    "    # Récupération du contenu de la page\n",
    "    soup = BeautifulSoup(content)\n",
    "    \n",
    "    # On récupère le contenu que l'on souhaite scrapper\n",
    "    content_scrapping = soup.findAll('div', attrs={'class': f'pure-u-1 pure-u-md-1-{int(url[len(url)-6])+1}'})\n",
    "\n",
    "    # On boucle sur chaque div\n",
    "    for item in content_scrapping:\n",
    "        new_dict = {}\n",
    "        header = item.find('div', attrs = {'class': f'pricing-table-header'})\n",
    "        \n",
    "        # On récupère le type d'offre\n",
    "        offer = header.find('h2').text\n",
    "        \n",
    "        # On récupère le prix\n",
    "        prx = header.find('span', attrs = {'class': f'pricing-table-price'}).text.strip()\n",
    "        new_dict['price'] = prx[0:len(prx)-10]\n",
    "    \n",
    "        # On récupère la taille du storage\n",
    "        header1 = item.find('ul', attrs = {'class': 'pricing-table-list'}).findAll('li')\n",
    "        stor = header1[3].text.strip().split()\n",
    "        new_dict['storage'] = stor[0]\n",
    "        \n",
    "        # On récupère le nombre de databases\n",
    "        datab = header1[4].text.strip().split()\n",
    "        new_dict['databases'] = int(datab[0])\n",
    "        \n",
    "        # Mise à jour du dictionnaire\n",
    "        prices[offer] = new_dict  \n",
    "    \n",
    "    return prices\n",
    "\n",
    "p = get_prices_from_url(URL_PAGE3)\n",
    "\n",
    "print(p)"
   ]
  },
  {
   "cell_type": "markdown",
   "metadata": {},
   "source": [
    "Ecrire une fonction qui extrait des informations sur une bière de beowulf.\n",
    "\n",
    "Exemple d'URL: https://www.beerwulf.com/fr-fr/p/bieres/melusine-bio.33 \n",
    "\n",
    "La fonction doit retourner :\n",
    "<pre>\n",
    "{'name': 'Mélusine Bio', 'note': 70, 'price': 38.99, 'volume': 33}\n",
    "</pre>"
   ]
  },
  {
   "cell_type": "code",
   "execution_count": 3,
   "metadata": {},
   "outputs": [
    {
     "data": {
      "text/plain": [
       "{'name': 'Mélusine Bio  ', 'note': '70', 'price': '38,99 €', 'volume': 33}"
      ]
     },
     "execution_count": 3,
     "metadata": {},
     "output_type": "execute_result"
    }
   ],
   "source": [
    "def extract_beer_infos(url):\n",
    "    infos = {\n",
    "        'name': None,\n",
    "        'note': None,\n",
    "        'price': None,\n",
    "        'volume': None,\n",
    "    }\n",
    "     # Requete\n",
    "    r = requests.get(url)\n",
    "    content = r.content\n",
    "    # Récupération du contenu de la page\n",
    "    soup = BeautifulSoup(content)\n",
    "    \n",
    "    # On récupère le nom de la bière\n",
    "    name = soup.find('title').text.split('|')\n",
    "    infos['name'] = name[0]\n",
    "    \n",
    "    # On récupère la note\n",
    "    score = soup.find('div', attrs={'class': \"stars\"})\n",
    "    infos['note'] = score[\"data-percent\"]\n",
    "    \n",
    "    # On récupère le prix\n",
    "    infos['price'] = soup.find('span', attrs={'class': \"price\"}).text\n",
    "    \n",
    "    # On récupère le volume\n",
    "    vol = soup.find('dd', attrs={'class': \"small-6 medium-9 columns js-beer-volume\"}).text.split()\n",
    "    infos['volume'] = int(vol[0] )\n",
    "    \n",
    "    return infos\n",
    "extract_beer_infos(\"https://www.beerwulf.com/fr-fr/p/bieres/melusine-bio.33\")"
   ]
  },
  {
   "cell_type": "markdown",
   "metadata": {},
   "source": [
    "Cette URL retourne un JSON avec une liste de bières :"
   ]
  },
  {
   "cell_type": "code",
   "execution_count": 7,
   "metadata": {},
   "outputs": [],
   "source": [
    "URL_BEERLIST_FRANCE = \"https://www.beerwulf.com/fr-FR/api/search/searchProducts?country=France&container=Bouteille\""
   ]
  },
  {
   "cell_type": "markdown",
   "metadata": {},
   "source": [
    "Ecrire une fonction qui prend l'argument cet URL retourne les informations sur une liste de bière via l'API de beowulf.\n",
    "\n",
    "Cette fonction doit retourner la liste des informations obtenues par la fonction `extract_beer_infos()` définie ci-dessus.\n",
    "\n",
    "Chercher comment optimiser cette fonction en utilisant multiprocessing.Pool pour paralléliser les accès web.\n",
    "\n",
    "Exemple de retour :\n",
    "\n",
    "<pre>[{'name': 'Gallia East IPA', 'note': 80, 'price': 42.99, 'volume': 33},\n",
    "    {'name': 'La Lager Sans Gluten de Vézelay', 'note': 60, 'price': 38.99, 'volume': 25},\n",
    "    {'name': 'Brasserie De Sutter Brin de Folie', 'note': 70, 'price': 44.99, 'volume': 33},\n",
    "    {'name': 'La Cristal IPA du Mont Blanc', 'note': 70, 'price': 44.99, 'volume': 33},\n",
    "    {'name': 'Mélusine Bio', 'note': 70, 'price': 38.99, 'volume': 33},\n",
    "    {'name': 'La Parisienne Le Titi Parisien', 'note': 70, 'price': 38.99, 'volume': 33},\n",
    "    {'name': 'Gallia Session IPA', 'note': 70, 'price': 42.99, 'volume': 33},\n",
    "    {'name': 'Ninkasi Brut IPA', 'note': 70, 'price': 44.99, 'volume': 33},\n",
    "    {'name': 'Pietra', 'note': 60, 'price': 38.99, 'volume': 33},\n",
    "    {'name': 'Desperados', 'note': 60, 'price': 35.99, 'volume': 33},\n",
    "    {'name': 'Gallia West IPA', 'note': 70, 'price': 42.99, 'volume': 33}]\n",
    "</pre>"
   ]
  },
  {
   "cell_type": "code",
   "execution_count": 8,
   "metadata": {},
   "outputs": [
    {
     "data": {
      "text/plain": [
       "[{'name': 'Gallia East IPA  ', 'note': '80', 'price': '42,99 €', 'volume': 33},\n",
       " {'name': 'La Lager Sans Gluten de Vézelay  ',\n",
       "  'note': '60',\n",
       "  'price': '38,99 €',\n",
       "  'volume': 25},\n",
       " {'name': 'Brasserie De Sutter Brin de Folie  ',\n",
       "  'note': '70',\n",
       "  'price': '44,99 €',\n",
       "  'volume': 33},\n",
       " {'name': 'La Cristal IPA du Mont Blanc  ',\n",
       "  'note': '70',\n",
       "  'price': '44,99 €',\n",
       "  'volume': 33},\n",
       " {'name': 'Mélusine Bio  ', 'note': '70', 'price': '38,99 €', 'volume': 33},\n",
       " {'name': 'La Parisienne Le Titi Parisien  ',\n",
       "  'note': '70',\n",
       "  'price': '38,99 €',\n",
       "  'volume': 33},\n",
       " {'name': 'Gallia Session IPA  ',\n",
       "  'note': '70',\n",
       "  'price': '42,99 €',\n",
       "  'volume': 33},\n",
       " {'name': 'Ninkasi Brut IPA  ',\n",
       "  'note': '70',\n",
       "  'price': '44,99 €',\n",
       "  'volume': 33},\n",
       " {'name': 'Pietra  ', 'note': '60', 'price': '38,99 €', 'volume': 33},\n",
       " {'name': 'Desperados  ', 'note': '60', 'price': '35,99 €', 'volume': 33},\n",
       " {'name': 'Gallia West IPA  ', 'note': '70', 'price': '42,99 €', 'volume': 33}]"
      ]
     },
     "execution_count": 8,
     "metadata": {},
     "output_type": "execute_result"
    }
   ],
   "source": [
    "def extract_beer_list_infos(url):\n",
    "    # Collecter les pages de bières à partir du JSON\n",
    "    r = requests.get(url)\n",
    "    # stock les données du JSON\n",
    "    data = r.json()\n",
    "    beer_pages = []\n",
    "    # On boucle sur les éléments pour récupérer les pages\n",
    "    for page in data['items']:\n",
    "        beer_pages.append(url[:24] + page['contentReference'])\n",
    "    # Sequential version (slow):\n",
    "    beers = []\n",
    "    # On boucle sur les différentes pages\n",
    "    for link in beer_pages:\n",
    "        beers.append(extract_beer_infos(link))\n",
    "\n",
    "    # Parallel version (faster):\n",
    "    \n",
    "    return beers\n",
    "extract_beer_list_infos(URL_BEERLIST_FRANCE)"
   ]
  },
  {
   "cell_type": "code",
   "execution_count": 9,
   "metadata": {},
   "outputs": [],
   "source": [
    "import unittest\n",
    "\n",
    "class Lesson4Tests(unittest.TestCase):\n",
    "    def test_01_get_prices_from_url_page2(self):\n",
    "        prices = get_prices_from_url(URL_PAGE2)\n",
    "        # We should have found 3 products:\n",
    "        self.assertIsInstance(prices, dict)\n",
    "        self.assertEqual(len(prices), 3)\n",
    "        self.assertIn('Personal', prices)\n",
    "        self.assertIn('Small Business', prices)\n",
    "        self.assertIn('Enterprise', prices)\n",
    "        \n",
    "        personal = prices['Personal']\n",
    "        self.assertIn('price', personal)\n",
    "        self.assertIn('storage', personal)\n",
    "        self.assertIn('databases', personal)\n",
    "        self.assertEqual(personal['price'], '$5')\n",
    "        self.assertEqual(personal['storage'], '1GB')\n",
    "        self.assertEqual(personal['databases'], 1)\n",
    "        \n",
    "    def test_02_get_prices_from_url_page3(self):\n",
    "        prices = get_prices_from_url(URL_PAGE3)\n",
    "        self.assertIsInstance(prices, dict)\n",
    "        self.assertEqual(len(prices), 4)\n",
    "        self.assertEqual(\n",
    "            prices['Privilege'],\n",
    "            {'databases': 100, 'price': '$99', 'storage': '1TB'}\n",
    "        )\n",
    "    \n",
    "    def test_03_extract_beer_list_infos(self):\n",
    "        infos = extract_beer_list_infos(URL_BEERLIST_FRANCE)\n",
    "        # We should have 11 French beers:\n",
    "        self.assertIsInstance(infos, list)\n",
    "        self.assertEqual(len(infos), 11)\n",
    "        # All of them are 25cl or 33cl:\n",
    "        for beer in infos:\n",
    "            self.assertIn(beer['volume'], [25, 33])\n",
    "\n",
    "            \n",
    "def run_tests():\n",
    "    test_suite = unittest.makeSuite(Lesson4Tests)\n",
    "    runner = unittest.TextTestRunner(verbosity=2)\n",
    "    runner.run(test_suite)"
   ]
  },
  {
   "cell_type": "code",
   "execution_count": 10,
   "metadata": {},
   "outputs": [
    {
     "name": "stderr",
     "output_type": "stream",
     "text": [
      "test_01_get_prices_from_url_page2 (__main__.Lesson4Tests) ... ok\n",
      "test_02_get_prices_from_url_page3 (__main__.Lesson4Tests) ... ok\n",
      "test_03_extract_beer_list_infos (__main__.Lesson4Tests) ... ok\n",
      "\n",
      "----------------------------------------------------------------------\n",
      "Ran 3 tests in 2.655s\n",
      "\n",
      "OK\n"
     ]
    }
   ],
   "source": [
    "if __name__ == '__main__':\n",
    "    run_tests()"
   ]
  },
  {
   "cell_type": "code",
   "execution_count": null,
   "metadata": {},
   "outputs": [],
   "source": []
  }
 ],
 "metadata": {
  "kernelspec": {
   "display_name": "Python 3",
   "language": "python",
   "name": "python3"
  },
  "language_info": {
   "codemirror_mode": {
    "name": "ipython",
    "version": 3
   },
   "file_extension": ".py",
   "mimetype": "text/x-python",
   "name": "python",
   "nbconvert_exporter": "python",
   "pygments_lexer": "ipython3",
   "version": "3.8.5"
  }
 },
 "nbformat": 4,
 "nbformat_minor": 4
}
