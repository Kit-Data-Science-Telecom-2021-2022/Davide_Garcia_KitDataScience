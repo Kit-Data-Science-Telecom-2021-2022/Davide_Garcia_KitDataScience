{
  "nbformat": 4,
  "nbformat_minor": 0,
  "metadata": {
    "anaconda-cloud": {},
    "kernelspec": {
      "display_name": "Python 3",
      "language": "python",
      "name": "python3"
    },
    "language_info": {
      "codemirror_mode": {
        "name": "ipython",
        "version": 3
      },
      "file_extension": ".py",
      "mimetype": "text/x-python",
      "name": "python",
      "nbconvert_exporter": "python",
      "pygments_lexer": "ipython3",
      "version": "3.8.10"
    },
    "colab": {
      "name": "projet2.ipynb",
      "provenance": [],
      "collapsed_sections": []
    }
  },
  "cells": [
    {
      "cell_type": "markdown",
      "metadata": {
        "id": "ts6AU2R3iSV-"
      },
      "source": [
        "\n",
        "# Projet 2"
      ]
    },
    {
      "cell_type": "code",
      "metadata": {
        "scrolled": false,
        "id": "pMz241-UiSWJ"
      },
      "source": [
        "# import des modules usuels\n",
        "import numpy as np\n",
        "import pandas as pd\n",
        "import json\n",
        "\n",
        "# options d'affichage\n",
        "pd.set_option(\"display.min_rows\", 16)"
      ],
      "execution_count": 1,
      "outputs": []
    },
    {
      "cell_type": "code",
      "metadata": {
        "colab": {
          "base_uri": "https://localhost:8080/"
        },
        "id": "--Zd68sg1sm9",
        "outputId": "968d1ea8-06ec-4b26-83c0-33bd7bed22f4"
      },
      "source": [
        "from google.colab import drive\n",
        "drive.mount('/content/drive')"
      ],
      "execution_count": 2,
      "outputs": [
        {
          "output_type": "stream",
          "name": "stdout",
          "text": [
            "Mounted at /content/drive\n"
          ]
        }
      ]
    },
    {
      "cell_type": "code",
      "metadata": {
        "scrolled": true,
        "colab": {
          "base_uri": "https://localhost:8080/",
          "height": 446
        },
        "id": "gicai72WiSWO",
        "outputId": "b553ba4c-9d25-4242-b815-c5f78dc0e682"
      },
      "source": [
        "# chargement et traitement des données\n",
        "geo = pd.read_csv(\"/content/drive/MyDrive/correspondance-code-insee-code-postal.csv\",\n",
        "                   sep=';',\n",
        "                   usecols=range(11),\n",
        "                   index_col=\"Code INSEE\")\n",
        "geo = geo.sort_index()\n",
        "geo[['Latitude', 'Longitude']] = geo[\"geo_point_2d\"].str.extract(\"(.*), (.*)\").astype(float)\n",
        "geo.head()"
      ],
      "execution_count": 3,
      "outputs": [
        {
          "output_type": "execute_result",
          "data": {
            "text/html": [
              "<div>\n",
              "<style scoped>\n",
              "    .dataframe tbody tr th:only-of-type {\n",
              "        vertical-align: middle;\n",
              "    }\n",
              "\n",
              "    .dataframe tbody tr th {\n",
              "        vertical-align: top;\n",
              "    }\n",
              "\n",
              "    .dataframe thead th {\n",
              "        text-align: right;\n",
              "    }\n",
              "</style>\n",
              "<table border=\"1\" class=\"dataframe\">\n",
              "  <thead>\n",
              "    <tr style=\"text-align: right;\">\n",
              "      <th></th>\n",
              "      <th>Code Postal</th>\n",
              "      <th>Commune</th>\n",
              "      <th>Département</th>\n",
              "      <th>Région</th>\n",
              "      <th>Statut</th>\n",
              "      <th>Altitude Moyenne</th>\n",
              "      <th>Superficie</th>\n",
              "      <th>Population</th>\n",
              "      <th>geo_point_2d</th>\n",
              "      <th>geo_shape</th>\n",
              "      <th>Latitude</th>\n",
              "      <th>Longitude</th>\n",
              "    </tr>\n",
              "    <tr>\n",
              "      <th>Code INSEE</th>\n",
              "      <th></th>\n",
              "      <th></th>\n",
              "      <th></th>\n",
              "      <th></th>\n",
              "      <th></th>\n",
              "      <th></th>\n",
              "      <th></th>\n",
              "      <th></th>\n",
              "      <th></th>\n",
              "      <th></th>\n",
              "      <th></th>\n",
              "      <th></th>\n",
              "    </tr>\n",
              "  </thead>\n",
              "  <tbody>\n",
              "    <tr>\n",
              "      <th>01001</th>\n",
              "      <td>01400</td>\n",
              "      <td>L'ABERGEMENT-CLEMENCIAT</td>\n",
              "      <td>AIN</td>\n",
              "      <td>RHONE-ALPES</td>\n",
              "      <td>Commune simple</td>\n",
              "      <td>242.0</td>\n",
              "      <td>1565.0</td>\n",
              "      <td>0.8</td>\n",
              "      <td>46.1534255214, 4.92611354223</td>\n",
              "      <td>{\"type\": \"Polygon\", \"coordinates\": [[[4.926273...</td>\n",
              "      <td>46.153426</td>\n",
              "      <td>4.926114</td>\n",
              "    </tr>\n",
              "    <tr>\n",
              "      <th>01002</th>\n",
              "      <td>01640</td>\n",
              "      <td>L'ABERGEMENT-DE-VAREY</td>\n",
              "      <td>AIN</td>\n",
              "      <td>RHONE-ALPES</td>\n",
              "      <td>Commune simple</td>\n",
              "      <td>483.0</td>\n",
              "      <td>912.0</td>\n",
              "      <td>0.2</td>\n",
              "      <td>46.0091878776, 5.42801696363</td>\n",
              "      <td>{\"type\": \"Polygon\", \"coordinates\": [[[5.430089...</td>\n",
              "      <td>46.009188</td>\n",
              "      <td>5.428017</td>\n",
              "    </tr>\n",
              "    <tr>\n",
              "      <th>01004</th>\n",
              "      <td>01500</td>\n",
              "      <td>AMBERIEU-EN-BUGEY</td>\n",
              "      <td>AIN</td>\n",
              "      <td>RHONE-ALPES</td>\n",
              "      <td>Chef-lieu canton</td>\n",
              "      <td>379.0</td>\n",
              "      <td>2448.0</td>\n",
              "      <td>13.4</td>\n",
              "      <td>45.9608475114, 5.3729257777</td>\n",
              "      <td>{\"type\": \"Polygon\", \"coordinates\": [[[5.386190...</td>\n",
              "      <td>45.960848</td>\n",
              "      <td>5.372926</td>\n",
              "    </tr>\n",
              "    <tr>\n",
              "      <th>01005</th>\n",
              "      <td>01330</td>\n",
              "      <td>AMBERIEUX-EN-DOMBES</td>\n",
              "      <td>AIN</td>\n",
              "      <td>RHONE-ALPES</td>\n",
              "      <td>Commune simple</td>\n",
              "      <td>290.0</td>\n",
              "      <td>1605.0</td>\n",
              "      <td>1.6</td>\n",
              "      <td>45.9961799872, 4.91227250796</td>\n",
              "      <td>{\"type\": \"Polygon\", \"coordinates\": [[[4.895580...</td>\n",
              "      <td>45.996180</td>\n",
              "      <td>4.912273</td>\n",
              "    </tr>\n",
              "    <tr>\n",
              "      <th>01006</th>\n",
              "      <td>01300</td>\n",
              "      <td>AMBLEON</td>\n",
              "      <td>AIN</td>\n",
              "      <td>RHONE-ALPES</td>\n",
              "      <td>Commune simple</td>\n",
              "      <td>589.0</td>\n",
              "      <td>602.0</td>\n",
              "      <td>0.1</td>\n",
              "      <td>45.7494989044, 5.59432017366</td>\n",
              "      <td>{\"type\": \"Polygon\", \"coordinates\": [[[5.614854...</td>\n",
              "      <td>45.749499</td>\n",
              "      <td>5.594320</td>\n",
              "    </tr>\n",
              "  </tbody>\n",
              "</table>\n",
              "</div>"
            ],
            "text/plain": [
              "           Code Postal                  Commune  ...   Latitude Longitude\n",
              "Code INSEE                                       ...                     \n",
              "01001            01400  L'ABERGEMENT-CLEMENCIAT  ...  46.153426  4.926114\n",
              "01002            01640    L'ABERGEMENT-DE-VAREY  ...  46.009188  5.428017\n",
              "01004            01500        AMBERIEU-EN-BUGEY  ...  45.960848  5.372926\n",
              "01005            01330      AMBERIEUX-EN-DOMBES  ...  45.996180  4.912273\n",
              "01006            01300                  AMBLEON  ...  45.749499  5.594320\n",
              "\n",
              "[5 rows x 12 columns]"
            ]
          },
          "metadata": {},
          "execution_count": 3
        }
      ]
    },
    {
      "cell_type": "markdown",
      "metadata": {
        "id": "-1G5lF6tiSWR"
      },
      "source": [
        "**Projet maison n° 1**\n",
        "\n",
        "- Ajoutez une colonne 'CP Ville' avec le Code postal + un espace + et le nom de la Ville.\n",
        "- Ecrivez une fonction qui détermine la commune la plus proche d'un point à partir de sa latitude et sa longitude.\n",
        "- Ajoutez une fonction de conversion pour pouvoir utiliser la première fonction avec un GPS (degrés, minutes, secondes)."
      ]
    },
    {
      "cell_type": "code",
      "metadata": {
        "colab": {
          "base_uri": "https://localhost:8080/",
          "height": 446
        },
        "id": "zpflQIGM16PI",
        "outputId": "85accfc9-90c5-49b0-826a-d1a3590f4264"
      },
      "source": [
        "# Ajout colonne 'CP Ville'\n",
        "geo['CP Ville'] = geo['Code Postal'] + ' ' + geo['Commune'] \n",
        "geo.head()"
      ],
      "execution_count": 4,
      "outputs": [
        {
          "output_type": "execute_result",
          "data": {
            "text/html": [
              "<div>\n",
              "<style scoped>\n",
              "    .dataframe tbody tr th:only-of-type {\n",
              "        vertical-align: middle;\n",
              "    }\n",
              "\n",
              "    .dataframe tbody tr th {\n",
              "        vertical-align: top;\n",
              "    }\n",
              "\n",
              "    .dataframe thead th {\n",
              "        text-align: right;\n",
              "    }\n",
              "</style>\n",
              "<table border=\"1\" class=\"dataframe\">\n",
              "  <thead>\n",
              "    <tr style=\"text-align: right;\">\n",
              "      <th></th>\n",
              "      <th>Code Postal</th>\n",
              "      <th>Commune</th>\n",
              "      <th>Département</th>\n",
              "      <th>Région</th>\n",
              "      <th>Statut</th>\n",
              "      <th>Altitude Moyenne</th>\n",
              "      <th>Superficie</th>\n",
              "      <th>Population</th>\n",
              "      <th>geo_point_2d</th>\n",
              "      <th>geo_shape</th>\n",
              "      <th>Latitude</th>\n",
              "      <th>Longitude</th>\n",
              "      <th>CP Ville</th>\n",
              "    </tr>\n",
              "    <tr>\n",
              "      <th>Code INSEE</th>\n",
              "      <th></th>\n",
              "      <th></th>\n",
              "      <th></th>\n",
              "      <th></th>\n",
              "      <th></th>\n",
              "      <th></th>\n",
              "      <th></th>\n",
              "      <th></th>\n",
              "      <th></th>\n",
              "      <th></th>\n",
              "      <th></th>\n",
              "      <th></th>\n",
              "      <th></th>\n",
              "    </tr>\n",
              "  </thead>\n",
              "  <tbody>\n",
              "    <tr>\n",
              "      <th>01001</th>\n",
              "      <td>01400</td>\n",
              "      <td>L'ABERGEMENT-CLEMENCIAT</td>\n",
              "      <td>AIN</td>\n",
              "      <td>RHONE-ALPES</td>\n",
              "      <td>Commune simple</td>\n",
              "      <td>242.0</td>\n",
              "      <td>1565.0</td>\n",
              "      <td>0.8</td>\n",
              "      <td>46.1534255214, 4.92611354223</td>\n",
              "      <td>{\"type\": \"Polygon\", \"coordinates\": [[[4.926273...</td>\n",
              "      <td>46.153426</td>\n",
              "      <td>4.926114</td>\n",
              "      <td>01400 L'ABERGEMENT-CLEMENCIAT</td>\n",
              "    </tr>\n",
              "    <tr>\n",
              "      <th>01002</th>\n",
              "      <td>01640</td>\n",
              "      <td>L'ABERGEMENT-DE-VAREY</td>\n",
              "      <td>AIN</td>\n",
              "      <td>RHONE-ALPES</td>\n",
              "      <td>Commune simple</td>\n",
              "      <td>483.0</td>\n",
              "      <td>912.0</td>\n",
              "      <td>0.2</td>\n",
              "      <td>46.0091878776, 5.42801696363</td>\n",
              "      <td>{\"type\": \"Polygon\", \"coordinates\": [[[5.430089...</td>\n",
              "      <td>46.009188</td>\n",
              "      <td>5.428017</td>\n",
              "      <td>01640 L'ABERGEMENT-DE-VAREY</td>\n",
              "    </tr>\n",
              "    <tr>\n",
              "      <th>01004</th>\n",
              "      <td>01500</td>\n",
              "      <td>AMBERIEU-EN-BUGEY</td>\n",
              "      <td>AIN</td>\n",
              "      <td>RHONE-ALPES</td>\n",
              "      <td>Chef-lieu canton</td>\n",
              "      <td>379.0</td>\n",
              "      <td>2448.0</td>\n",
              "      <td>13.4</td>\n",
              "      <td>45.9608475114, 5.3729257777</td>\n",
              "      <td>{\"type\": \"Polygon\", \"coordinates\": [[[5.386190...</td>\n",
              "      <td>45.960848</td>\n",
              "      <td>5.372926</td>\n",
              "      <td>01500 AMBERIEU-EN-BUGEY</td>\n",
              "    </tr>\n",
              "    <tr>\n",
              "      <th>01005</th>\n",
              "      <td>01330</td>\n",
              "      <td>AMBERIEUX-EN-DOMBES</td>\n",
              "      <td>AIN</td>\n",
              "      <td>RHONE-ALPES</td>\n",
              "      <td>Commune simple</td>\n",
              "      <td>290.0</td>\n",
              "      <td>1605.0</td>\n",
              "      <td>1.6</td>\n",
              "      <td>45.9961799872, 4.91227250796</td>\n",
              "      <td>{\"type\": \"Polygon\", \"coordinates\": [[[4.895580...</td>\n",
              "      <td>45.996180</td>\n",
              "      <td>4.912273</td>\n",
              "      <td>01330 AMBERIEUX-EN-DOMBES</td>\n",
              "    </tr>\n",
              "    <tr>\n",
              "      <th>01006</th>\n",
              "      <td>01300</td>\n",
              "      <td>AMBLEON</td>\n",
              "      <td>AIN</td>\n",
              "      <td>RHONE-ALPES</td>\n",
              "      <td>Commune simple</td>\n",
              "      <td>589.0</td>\n",
              "      <td>602.0</td>\n",
              "      <td>0.1</td>\n",
              "      <td>45.7494989044, 5.59432017366</td>\n",
              "      <td>{\"type\": \"Polygon\", \"coordinates\": [[[5.614854...</td>\n",
              "      <td>45.749499</td>\n",
              "      <td>5.594320</td>\n",
              "      <td>01300 AMBLEON</td>\n",
              "    </tr>\n",
              "  </tbody>\n",
              "</table>\n",
              "</div>"
            ],
            "text/plain": [
              "           Code Postal  ...                       CP Ville\n",
              "Code INSEE              ...                               \n",
              "01001            01400  ...  01400 L'ABERGEMENT-CLEMENCIAT\n",
              "01002            01640  ...    01640 L'ABERGEMENT-DE-VAREY\n",
              "01004            01500  ...        01500 AMBERIEU-EN-BUGEY\n",
              "01005            01330  ...      01330 AMBERIEUX-EN-DOMBES\n",
              "01006            01300  ...                  01300 AMBLEON\n",
              "\n",
              "[5 rows x 13 columns]"
            ]
          },
          "metadata": {},
          "execution_count": 4
        }
      ]
    },
    {
      "cell_type": "code",
      "metadata": {
        "scrolled": false,
        "id": "hpunHiVliSWT"
      },
      "source": [
        "# fonction recherche de ville\n",
        "def ville(lat, long):\n",
        "  geo['Distance'] = np.sqrt((geo['Latitude'] - lat)**2 + (geo['Longitude'] - long)**2)\n",
        "  return geo.loc[geo['Distance'].idxmin(), 'Commune']"
      ],
      "execution_count": 5,
      "outputs": []
    },
    {
      "cell_type": "code",
      "metadata": {
        "scrolled": false,
        "id": "d4C02xxYiSWV",
        "colab": {
          "base_uri": "https://localhost:8080/"
        },
        "outputId": "3fe0f20c-4b70-458d-d0b3-14d54b4e23c7"
      },
      "source": [
        "# conversion degrés, minutes, secondes => décimal\n",
        "def dms2dec(deg, mn, sec):\n",
        "    return deg + mn / 60 + sec / 3600\n",
        "dms2dec(48, 42, 52)"
      ],
      "execution_count": 6,
      "outputs": [
        {
          "output_type": "execute_result",
          "data": {
            "text/plain": [
              "48.714444444444446"
            ]
          },
          "metadata": {},
          "execution_count": 6
        }
      ]
    },
    {
      "cell_type": "code",
      "metadata": {
        "scrolled": false,
        "colab": {
          "base_uri": "https://localhost:8080/",
          "height": 36
        },
        "id": "vun5-hpIiSWW",
        "outputId": "0ace7c99-070a-4b71-a1d6-0fca00b961ce"
      },
      "source": [
        "# on applique la fonction à une coordonnée tirée au hasard\n",
        "# init du random\n",
        "np.random.seed(0)\n",
        "\n",
        "a, b = 41.5, 51.1  # latitude min et max de la France métropolitaine\n",
        "lat = (b - a) * np.random.random() + a\n",
        "a, b = -5.1, 9.5  # longitude min et max de la France métropolitaine\n",
        "long = (b - a) * np.random.random() + a\n",
        "\n",
        "ville(lat, long)"
      ],
      "execution_count": 7,
      "outputs": [
        {
          "output_type": "execute_result",
          "data": {
            "application/vnd.google.colaboratory.intrinsic+json": {
              "type": "string"
            },
            "text/plain": [
              "'BOSJEAN'"
            ]
          },
          "metadata": {},
          "execution_count": 7
        }
      ]
    },
    {
      "cell_type": "code",
      "metadata": {
        "scrolled": false,
        "id": "Z1Zofg5KiSWX",
        "colab": {
          "base_uri": "https://localhost:8080/",
          "height": 36
        },
        "outputId": "91f20f21-030d-4eb5-ecf4-fc00f4a40664"
      },
      "source": [
        "# à partir de coordonnées GPS précises\n",
        "ville(dms2dec(48, 42, 52), dms2dec(2, 14, 45))"
      ],
      "execution_count": 8,
      "outputs": [
        {
          "output_type": "execute_result",
          "data": {
            "application/vnd.google.colaboratory.intrinsic+json": {
              "type": "string"
            },
            "text/plain": [
              "'PALAISEAU'"
            ]
          },
          "metadata": {},
          "execution_count": 8
        }
      ]
    },
    {
      "cell_type": "markdown",
      "metadata": {
        "id": "DQeOvJ8riSWZ"
      },
      "source": [
        "**Projet maison n° 2**\n",
        "\n",
        "La colonne \"geo_shape\" comporte des chaines de catactères au format JSON. Elles représentent les formes géométriques des communes qui sont soit des polygones soit composées de plusieurs polygones.\n",
        "\n",
        "- Utiliser la librairie Python json pour parser la colonne \"geo_shape\".\n",
        "- Donner le décompte des valeurs accédées avec la clé \"type\".\n",
        "- Donner le décompte des longueurs des listes accédées avec la clé \"coordinates\".\n",
        "- Quelle commune est la plus complexe géométriquement ?\n",
        "- Quelle commune est la seconde la plus complexe géométriquement ?\n",
        "- Quelles sont les villes qui sont de type \"Polygon\" mais dont la longueur des listes accédées avec la clé \"coordinates\" vaut 2 ?\n",
        "- Pour ces villes vérifier que le premier polygone contient bien le second (enclave). NB : installer la librairie shapely, utiliser la classe Polygon de shapely.geometry. Sur Windows shapely peut nécessiter d'installer la dll \"geos_c.dll\" dans le répertoire \"Library/bin\" de votre environnement Python."
      ]
    },
    {
      "cell_type": "code",
      "metadata": {
        "id": "vEsyp6Ns1WZJ"
      },
      "source": [
        "# Parsing de la colonne geo_shape\n",
        "geo_shape = geo['geo_shape'].apply(lambda x: json.loads(x))\n",
        "geo['type'] = geo_shape.apply(lambda x: x['type'])\n",
        "geo['coordonees'] = geo_shape.apply(lambda x: x['coordinates'])"
      ],
      "execution_count": 9,
      "outputs": []
    },
    {
      "cell_type": "code",
      "metadata": {
        "id": "hWEO0S8uQkmR",
        "colab": {
          "base_uri": "https://localhost:8080/"
        },
        "outputId": "1c8aba8f-e2f5-40b6-e800-d98174105612"
      },
      "source": [
        "# Décompte des valeurs accédées avec la clé \"type\"\n",
        "geo['type'].value_counts()"
      ],
      "execution_count": 10,
      "outputs": [
        {
          "output_type": "execute_result",
          "data": {
            "text/plain": [
              "Polygon         36670\n",
              "MultiPolygon       72\n",
              "Name: type, dtype: int64"
            ]
          },
          "metadata": {},
          "execution_count": 10
        }
      ]
    },
    {
      "cell_type": "code",
      "metadata": {
        "colab": {
          "base_uri": "https://localhost:8080/"
        },
        "id": "08oZa0iIkeUc",
        "outputId": "4b547098-4769-4d8f-d4fc-18613ec68788"
      },
      "source": [
        "# Décompte des longueurs des listes accédées avec la clé \"coordinates\"\n",
        "geo['coordonees'].str.len().value_counts()"
      ],
      "execution_count": 11,
      "outputs": [
        {
          "output_type": "execute_result",
          "data": {
            "text/plain": [
              "1    36660\n",
              "2       80\n",
              "4        1\n",
              "3        1\n",
              "Name: coordonees, dtype: int64"
            ]
          },
          "metadata": {},
          "execution_count": 11
        }
      ]
    },
    {
      "cell_type": "code",
      "metadata": {
        "colab": {
          "base_uri": "https://localhost:8080/",
          "height": 36
        },
        "id": "QMmjIXMXlSgK",
        "outputId": "521279d8-d523-4b56-ee63-f3a9a13a50d6"
      },
      "source": [
        "# Ville la plus complexe géométriquement\n",
        "# c'est la ville possédant le plus d'éléments dans 'coordinates'\n",
        "\n",
        "geo.loc[geo['coordonees'].str.len().idxmax(), 'Commune']"
      ],
      "execution_count": 12,
      "outputs": [
        {
          "output_type": "execute_result",
          "data": {
            "application/vnd.google.colaboratory.intrinsic+json": {
              "type": "string"
            },
            "text/plain": [
              "'HYERES'"
            ]
          },
          "metadata": {},
          "execution_count": 12
        }
      ]
    },
    {
      "cell_type": "code",
      "metadata": {
        "colab": {
          "base_uri": "https://localhost:8080/"
        },
        "id": "rVgdz9OsmcSP",
        "outputId": "8926e847-7eca-4161-d503-6a98b5929d13"
      },
      "source": [
        "# Deuxieme ville la plus complexe géométriquement\n",
        "# c'est la ville avec 3 coordonnées\n",
        "\n",
        "geo.loc[geo['coordonees'].str.len() == 3, 'Commune']"
      ],
      "execution_count": 13,
      "outputs": [
        {
          "output_type": "execute_result",
          "data": {
            "text/plain": [
              "Code INSEE\n",
              "27701    VAL-DE-REUIL\n",
              "Name: Commune, dtype: object"
            ]
          },
          "metadata": {},
          "execution_count": 13
        }
      ]
    },
    {
      "cell_type": "code",
      "metadata": {
        "colab": {
          "base_uri": "https://localhost:8080/"
        },
        "id": "DmuxQ7rlozLp",
        "outputId": "0f365e19-eff9-4242-f1d1-9beee396d6ce"
      },
      "source": [
        "# Villes de type 'Polygon' dont la  longueur des listes vaut 2\n",
        "geo.loc[(geo['type'] == 'Polygon') & (geo['coordonees'].str.len() == 2), 'Commune']"
      ],
      "execution_count": 14,
      "outputs": [
        {
          "output_type": "execute_result",
          "data": {
            "text/plain": [
              "Code INSEE\n",
              "02232               COYOLLES\n",
              "05052               EYGLIERS\n",
              "09042    LA BASTIDE-DE-SEROU\n",
              "22209              PLOUBALAY\n",
              "2A272                SARTENE\n",
              "2B049              CALENZANA\n",
              "48080               LANGOGNE\n",
              "67486              SUNDHOUSE\n",
              "68078              EGUISHEIM\n",
              "71028            BEAUVERNOIS\n",
              "Name: Commune, dtype: object"
            ]
          },
          "metadata": {},
          "execution_count": 14
        }
      ]
    },
    {
      "cell_type": "code",
      "metadata": {
        "colab": {
          "base_uri": "https://localhost:8080/"
        },
        "id": "YKC6Ws6uphq7",
        "outputId": "ea6df458-90da-40b0-b8dc-3e46653c3266"
      },
      "source": [
        "pip install shapely"
      ],
      "execution_count": 15,
      "outputs": [
        {
          "output_type": "stream",
          "name": "stdout",
          "text": [
            "Requirement already satisfied: shapely in /usr/local/lib/python3.7/dist-packages (1.7.1)\n"
          ]
        }
      ]
    },
    {
      "cell_type": "code",
      "metadata": {
        "colab": {
          "base_uri": "https://localhost:8080/",
          "height": 662
        },
        "id": "GM1OAELMpweL",
        "outputId": "f585d9b7-5883-4a02-abe7-35c9539d3e82"
      },
      "source": [
        "# Pour ces villes vérifier que le premier polygone contient bien le second\n",
        "from shapely.geometry import Polygon\n",
        "geo_poly_2 = geo.loc[(geo['type'] == 'Polygon') & (geo['coordonees'].str.len() == 2)]\n",
        "geo_poly_2['Enclave'] = geo_poly_2['coordonees'].apply(lambda x: Polygon(x[0]).contains(Polygon(x[1])))\n",
        "geo_poly_2.head()"
      ],
      "execution_count": 16,
      "outputs": [
        {
          "output_type": "stream",
          "name": "stderr",
          "text": [
            "/usr/local/lib/python3.7/dist-packages/ipykernel_launcher.py:4: SettingWithCopyWarning: \n",
            "A value is trying to be set on a copy of a slice from a DataFrame.\n",
            "Try using .loc[row_indexer,col_indexer] = value instead\n",
            "\n",
            "See the caveats in the documentation: https://pandas.pydata.org/pandas-docs/stable/user_guide/indexing.html#returning-a-view-versus-a-copy\n",
            "  after removing the cwd from sys.path.\n"
          ]
        },
        {
          "output_type": "execute_result",
          "data": {
            "text/html": [
              "<div>\n",
              "<style scoped>\n",
              "    .dataframe tbody tr th:only-of-type {\n",
              "        vertical-align: middle;\n",
              "    }\n",
              "\n",
              "    .dataframe tbody tr th {\n",
              "        vertical-align: top;\n",
              "    }\n",
              "\n",
              "    .dataframe thead th {\n",
              "        text-align: right;\n",
              "    }\n",
              "</style>\n",
              "<table border=\"1\" class=\"dataframe\">\n",
              "  <thead>\n",
              "    <tr style=\"text-align: right;\">\n",
              "      <th></th>\n",
              "      <th>Code Postal</th>\n",
              "      <th>Commune</th>\n",
              "      <th>Département</th>\n",
              "      <th>Région</th>\n",
              "      <th>Statut</th>\n",
              "      <th>Altitude Moyenne</th>\n",
              "      <th>Superficie</th>\n",
              "      <th>Population</th>\n",
              "      <th>geo_point_2d</th>\n",
              "      <th>geo_shape</th>\n",
              "      <th>Latitude</th>\n",
              "      <th>Longitude</th>\n",
              "      <th>CP Ville</th>\n",
              "      <th>Distance</th>\n",
              "      <th>type</th>\n",
              "      <th>coordonees</th>\n",
              "      <th>Enclave</th>\n",
              "    </tr>\n",
              "    <tr>\n",
              "      <th>Code INSEE</th>\n",
              "      <th></th>\n",
              "      <th></th>\n",
              "      <th></th>\n",
              "      <th></th>\n",
              "      <th></th>\n",
              "      <th></th>\n",
              "      <th></th>\n",
              "      <th></th>\n",
              "      <th></th>\n",
              "      <th></th>\n",
              "      <th></th>\n",
              "      <th></th>\n",
              "      <th></th>\n",
              "      <th></th>\n",
              "      <th></th>\n",
              "      <th></th>\n",
              "      <th></th>\n",
              "    </tr>\n",
              "  </thead>\n",
              "  <tbody>\n",
              "    <tr>\n",
              "      <th>02232</th>\n",
              "      <td>02600</td>\n",
              "      <td>COYOLLES</td>\n",
              "      <td>AISNE</td>\n",
              "      <td>PICARDIE</td>\n",
              "      <td>Commune simple</td>\n",
              "      <td>126.0</td>\n",
              "      <td>2489.0</td>\n",
              "      <td>0.4</td>\n",
              "      <td>49.2133089693, 3.01306173751</td>\n",
              "      <td>{\"type\": \"Polygon\", \"coordinates\": [[[3.037897...</td>\n",
              "      <td>49.213309</td>\n",
              "      <td>3.013062</td>\n",
              "      <td>02600 COYOLLES</td>\n",
              "      <td>0.915153</td>\n",
              "      <td>Polygon</td>\n",
              "      <td>[[[3.037897560658703, 49.16921270775551], [3.0...</td>\n",
              "      <td>True</td>\n",
              "    </tr>\n",
              "    <tr>\n",
              "      <th>05052</th>\n",
              "      <td>05600</td>\n",
              "      <td>EYGLIERS</td>\n",
              "      <td>HAUTES-ALPES</td>\n",
              "      <td>PROVENCE-ALPES-COTE D'AZUR</td>\n",
              "      <td>Commune simple</td>\n",
              "      <td>1615.0</td>\n",
              "      <td>2987.0</td>\n",
              "      <td>0.7</td>\n",
              "      <td>44.6925244966, 6.66688741371</td>\n",
              "      <td>{\"type\": \"Polygon\", \"coordinates\": [[[6.719912...</td>\n",
              "      <td>44.692524</td>\n",
              "      <td>6.666887</td>\n",
              "      <td>05600 EYGLIERS</td>\n",
              "      <td>5.976752</td>\n",
              "      <td>Polygon</td>\n",
              "      <td>[[[6.719912606601575, 44.70392733592357], [6.7...</td>\n",
              "      <td>True</td>\n",
              "    </tr>\n",
              "    <tr>\n",
              "      <th>09042</th>\n",
              "      <td>09240</td>\n",
              "      <td>LA BASTIDE-DE-SEROU</td>\n",
              "      <td>ARIEGE</td>\n",
              "      <td>MIDI-PYRENEES</td>\n",
              "      <td>Chef-lieu canton</td>\n",
              "      <td>479.0</td>\n",
              "      <td>4138.0</td>\n",
              "      <td>1.0</td>\n",
              "      <td>43.0242795037, 1.42677885373</td>\n",
              "      <td>{\"type\": \"Polygon\", \"coordinates\": [[[1.423960...</td>\n",
              "      <td>43.024280</td>\n",
              "      <td>1.426779</td>\n",
              "      <td>09240 LA BASTIDE-DE-SEROU</td>\n",
              "      <td>5.748811</td>\n",
              "      <td>Polygon</td>\n",
              "      <td>[[[1.423960819701936, 42.99550854650971], [1.4...</td>\n",
              "      <td>True</td>\n",
              "    </tr>\n",
              "    <tr>\n",
              "      <th>22209</th>\n",
              "      <td>22650</td>\n",
              "      <td>PLOUBALAY</td>\n",
              "      <td>COTES-D'ARMOR</td>\n",
              "      <td>BRETAGNE</td>\n",
              "      <td>Chef-lieu canton</td>\n",
              "      <td>36.0</td>\n",
              "      <td>3600.0</td>\n",
              "      <td>2.7</td>\n",
              "      <td>48.5596688192, -2.12838362694</td>\n",
              "      <td>{\"type\": \"Polygon\", \"coordinates\": [[[-2.11237...</td>\n",
              "      <td>48.559669</td>\n",
              "      <td>-2.128384</td>\n",
              "      <td>22650 PLOUBALAY</td>\n",
              "      <td>4.376954</td>\n",
              "      <td>Polygon</td>\n",
              "      <td>[[[-2.11237709725211, 48.52896113651634], [-2....</td>\n",
              "      <td>True</td>\n",
              "    </tr>\n",
              "    <tr>\n",
              "      <th>2A272</th>\n",
              "      <td>20100</td>\n",
              "      <td>SARTENE</td>\n",
              "      <td>CORSE-DU-SUD</td>\n",
              "      <td>CORSE</td>\n",
              "      <td>Sous-préfecture</td>\n",
              "      <td>190.0</td>\n",
              "      <td>20182.0</td>\n",
              "      <td>3.1</td>\n",
              "      <td>41.5718443328, 8.93538107497</td>\n",
              "      <td>{\"type\": \"Polygon\", \"coordinates\": [[[8.940487...</td>\n",
              "      <td>41.571844</td>\n",
              "      <td>8.935381</td>\n",
              "      <td>20100 SARTENE</td>\n",
              "      <td>9.786051</td>\n",
              "      <td>Polygon</td>\n",
              "      <td>[[[8.940487655060174, 41.490088793265336], [8....</td>\n",
              "      <td>True</td>\n",
              "    </tr>\n",
              "  </tbody>\n",
              "</table>\n",
              "</div>"
            ],
            "text/plain": [
              "           Code Postal  ... Enclave\n",
              "Code INSEE              ...        \n",
              "02232            02600  ...    True\n",
              "05052            05600  ...    True\n",
              "09042            09240  ...    True\n",
              "22209            22650  ...    True\n",
              "2A272            20100  ...    True\n",
              "\n",
              "[5 rows x 17 columns]"
            ]
          },
          "metadata": {},
          "execution_count": 16
        }
      ]
    }
  ]
}